{
 "cells": [
  {
   "cell_type": "code",
   "execution_count": null,
   "metadata": {},
   "outputs": [],
   "source": []
  },
  {
   "cell_type": "code",
   "execution_count": 19,
   "metadata": {},
   "outputs": [
    {
     "name": "stdout",
     "output_type": "stream",
     "text": [
      "4\n",
      "H 3 cat beach sun\n",
      "V 2 selfie smile\n",
      "V 2 garden selfie\n",
      "H 2 garden cat\n"
     ]
    },
    {
     "data": {
      "text/plain": [
       "(4,\n",
       " [{'h_or_v': 'H', 'num_tag': '3', 'list_tag': ['cat', 'beach', 'sun']},\n",
       "  {'h_or_v': 'V', 'num_tag': '2', 'list_tag': ['selfie', 'smile']},\n",
       "  {'h_or_v': 'V', 'num_tag': '2', 'list_tag': ['garden', 'selfie']},\n",
       "  {'h_or_v': 'H', 'num_tag': '2', 'list_tag': ['garden', 'cat']}])"
      ]
     },
     "execution_count": 19,
     "metadata": {},
     "output_type": "execute_result"
    }
   ],
   "source": [
    "#parseur\n",
    "path_in=\"../../data/in/\"\n",
    "\n",
    "with open(path_in+\"a_example.txt\") as f :\n",
    "    for i,line in enumerate(f) :\n",
    "        element=line.replace(\"\\n\",\"\").strip()\n",
    "        dict_line=dict()\n",
    "        print(element)\n",
    "        if i==0 :\n",
    "            num_line=int(element)\n",
    "            tab_global=[]\n",
    "        else :\n",
    "            tab_line = element.split(\" \")\n",
    "            h_or_v = tab_line[0]\n",
    "            num_tag=tab_line[1]\n",
    "            list_tag=tab_line[2:]\n",
    "            #dict_line={}\n",
    "            dict_line[\"h_or_v\"]=h_or_v\n",
    "            dict_line[\"num_tag\"]=num_tag\n",
    "            dict_line[\"list_tag\"]=list_tag\n",
    "            tab_global.append(dict_line)\n",
    "        \n",
    "data=(num_line,tab_global)\n",
    "data"
   ]
  },
  {
   "cell_type": "code",
   "execution_count": 21,
   "metadata": {},
   "outputs": [
    {
     "data": {
      "text/plain": [
       "'H'"
      ]
     },
     "execution_count": 21,
     "metadata": {},
     "output_type": "execute_result"
    }
   ],
   "source": [
    "data[1][0][\"h_or_v\"]"
   ]
  },
  {
   "cell_type": "code",
   "execution_count": null,
   "metadata": {},
   "outputs": [],
   "source": []
  }
 ],
 "metadata": {
  "kernelspec": {
   "display_name": "Python 3",
   "language": "python",
   "name": "python3"
  },
  "language_info": {
   "codemirror_mode": {
    "name": "ipython",
    "version": 3
   },
   "file_extension": ".py",
   "mimetype": "text/x-python",
   "name": "python",
   "nbconvert_exporter": "python",
   "pygments_lexer": "ipython3",
   "version": "3.6.5"
  }
 },
 "nbformat": 4,
 "nbformat_minor": 2
}
